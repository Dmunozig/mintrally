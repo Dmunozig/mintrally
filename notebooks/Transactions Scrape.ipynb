{
 "cells": [
  {
   "cell_type": "code",
   "execution_count": 1,
   "id": "convinced-adoption",
   "metadata": {},
   "outputs": [],
   "source": [
    "import pandas as pd\n",
    "import requests\n",
    "from bs4 import BeautifulSoup"
   ]
  },
  {
   "cell_type": "code",
   "execution_count": 2,
   "id": "parallel-visitor",
   "metadata": {},
   "outputs": [],
   "source": [
    "url = 'https://rally.io/creator/'\n",
    "\n",
    "# Making a request to the URL\n",
    "response = requests.get(url)\n",
    "# PARSE the response with BS\n",
    "soup = BeautifulSoup(response.content, \"html.parser\")"
   ]
  },
  {
   "cell_type": "code",
   "execution_count": null,
   "id": "optical-airplane",
   "metadata": {},
   "outputs": [],
   "source": [
    "# Each creator page URL is based on their symbol\n",
    "data = soup.find(id='__NEXT_DATA__').contents[0]\n",
    "import json\n",
    "data_dict = json.loads(data)\n",
    "total_creators = data_dict['props']['pageProps']['data']['getDetailedCreatorInformation']['totalCreators']\n",
    "dict_summary = data_dict['props']['pageProps']['data']['getDetailedCreatorInformation']['detailedCreatorInformation']\n",
    "symbols = []\n",
    "for creator in range(0,total_creators-1):\n",
    "    symbols.append(dict_summary[creator]['coinSummary']['symbol'])"
   ]
  },
  {
   "cell_type": "markdown",
   "id": "diagnostic-counter",
   "metadata": {},
   "source": [
    "# Scrape One Creator Page"
   ]
  },
  {
   "cell_type": "code",
   "execution_count": null,
   "id": "modified-buddy",
   "metadata": {},
   "outputs": [],
   "source": [
    "# K Honda example\n",
    "url = 'https://rally.io/creator/KSK/'\n"
   ]
  },
  {
   "cell_type": "code",
   "execution_count": null,
   "id": "desperate-oxford",
   "metadata": {},
   "outputs": [],
   "source": [
    "# Infinite scroll example with selenium\n",
    "import time\n",
    "\n",
    "from selenium import webdriver\n",
    "from selenium.webdriver.common.keys import Keys\n",
    "\n",
    "browser = webdriver.Chrome()\n",
    "\n",
    "browser.get(\"https://medium.com/top-100/december-2013\")\n",
    "time.sleep(1)\n",
    "\n",
    "elem = browser.find_element_by_tag_name(\"body\")\n",
    "\n",
    "no_of_pagedowns = 20\n",
    "\n",
    "while no_of_pagedowns:\n",
    "    elem.send_keys(Keys.PAGE_DOWN)\n",
    "    time.sleep(0.2)\n",
    "    no_of_pagedowns-=1\n",
    "\n",
    "post_elems = browser.find_elements_by_class_name(\"post-item-title\")\n",
    "\n",
    "for post in post_elems:\n",
    "    print post.text"
   ]
  }
 ],
 "metadata": {
  "kernelspec": {
   "display_name": "Python 3",
   "language": "python",
   "name": "python3"
  },
  "language_info": {
   "codemirror_mode": {
    "name": "ipython",
    "version": 3
   },
   "file_extension": ".py",
   "mimetype": "text/x-python",
   "name": "python",
   "nbconvert_exporter": "python",
   "pygments_lexer": "ipython3",
   "version": "3.8.6"
  },
  "toc": {
   "base_numbering": 1,
   "nav_menu": {},
   "number_sections": true,
   "sideBar": true,
   "skip_h1_title": false,
   "title_cell": "Table of Contents",
   "title_sidebar": "Contents",
   "toc_cell": false,
   "toc_position": {},
   "toc_section_display": true,
   "toc_window_display": true
  }
 },
 "nbformat": 4,
 "nbformat_minor": 5
}
